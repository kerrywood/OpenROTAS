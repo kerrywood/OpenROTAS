{
 "cells": [
  {
   "cell_type": "markdown",
   "id": "6fe1f525-fcbf-4352-92ec-4b9fd036a489",
   "metadata": {},
   "source": [
    "# ROTAS test \n",
    "\n",
    "Kerry Wood (kerry.wood@asterism.ai)"
   ]
  },
  {
   "cell_type": "code",
   "execution_count": 1,
   "id": "deb36631-b078-47c3-a64d-44dc5678a676",
   "metadata": {},
   "outputs": [],
   "source": [
    "import pandas as pd\n",
    "import ctypes\n",
    "import load_utils\n",
    "import helpers"
   ]
  },
  {
   "cell_type": "code",
   "execution_count": 2,
   "id": "f5c70f04-f1ce-4647-9720-b555b3b4ebeb",
   "metadata": {},
   "outputs": [
    {
     "name": "stdout",
     "output_type": "stream",
     "text": [
      "EnvConstDll: 0\n",
      "TimeFuncDll: 0\n",
      "AstroFuncDll: 0\n",
      "TleDll: 0\n",
      "SpVecDll: 0\n",
      "VcmDll: 0\n",
      "ExtEphemDll: 0\n",
      "Sgp4PropDll: 0\n",
      "SpPropDll: 0\n",
      "ElOpsDll: 0\n",
      "SatStateDll: 0\n",
      "SensorDll: 0\n",
      "ObsDll: 0\n",
      "ObsOpsDll: 0\n",
      "LamodDll: 0\n",
      "RotasDll: 0\n",
      "BatchDCDll: 0\n",
      "b''\n"
     ]
    },
    {
     "data": {
      "text/plain": [
       "0"
      ]
     },
     "execution_count": 2,
     "metadata": {},
     "output_type": "execute_result"
    }
   ],
   "source": [
    "# this will only work if you have the full astrostandards\n",
    "load_utils.init_all()"
   ]
  },
  {
   "cell_type": "code",
   "execution_count": 50,
   "id": "bd3ebfee-0598-4f17-9f7a-5ac5a6006bf2",
   "metadata": {},
   "outputs": [],
   "source": [
    "obs = pd.read_json('./48340_obs.json')\n",
    "tle = pd.read_json('./48340_tle.json')\n",
    "# load the obs\n",
    "obs = obs[ ~obs['idSensor'].isnull() ].copy()\n",
    "obs = obs[ ~obs['id'].isnull() ].copy()\n",
    "# this is a data holder / formatter\n",
    "OBSHELPER = helpers.astrostd_named_fields( load_utils.ObsDll, prefix='XA_OBS_' )\n",
    "\n",
    "EFG = (ctypes.c_double * 3)()\n",
    "def toEFG( R ):\n",
    "    LLH = load_utils.AstroFuncDll.LLHToEFGPos( \n",
    "                                              (ctypes.c_double * 3)( R['senlat'],R['senlon'],R['senalt']),\n",
    "                                              EFG\n",
    "                                              )\n",
    "    return list(EFG)\n",
    "\n",
    "obs['efg'] = obs.apply( toEFG, axis=1 ) \n",
    "obs['obTime'] = pd.to_datetime( obs['obTime'] )\n",
    "obs['ds50_utc'] = obs['obTime'].apply( lambda X : helpers.datetime_to_ds50(X,load_utils.TimeFuncDll) )"
   ]
  },
  {
   "cell_type": "code",
   "execution_count": 51,
   "id": "23e85be3-88e1-4f1e-8d55-b8871cbdf9a1",
   "metadata": {},
   "outputs": [],
   "source": [
    "def addOb( R, fakeSatNo=777 ):\n",
    "    satno = R['satNo']\n",
    "    senx, seny, senz = R['efg']\n",
    "    # data holders\n",
    "    OBSHELPER.clear()\n",
    "    OBSHELPER['XA_OBS_SECCLASS'] = 1\n",
    "    OBSHELPER['XA_OBS_SATNUM']   = satno\n",
    "    OBSHELPER['XA_OBS_SITETAG']  = satno\n",
    "    OBSHELPER['XA_OBS_SPADOCTAG']  = satno\n",
    "    OBSHELPER['XA_OBS_SENNUM']   = fakeSatNo\n",
    "    OBSHELPER['XA_OBS_DS50UTC']  = R['ds50_utc']\n",
    "    OBSHELPER['XA_OBS_ELORDEC']  = R['declination']\n",
    "    OBSHELPER['XA_OBS_AZORRA']   = R['ra']\n",
    "    OBSHELPER['XA_OBS_POSX']     = senx\n",
    "    OBSHELPER['XA_OBS_POSY']     = seny\n",
    "    OBSHELPER['XA_OBS_POSZ']     = senz\n",
    "    OBSHELPER['XA_OBS_OBSTYPE']  = 9\n",
    "    OBSHELPER['XA_OBS_TRACKIND'] = 3 # start of track\n",
    "    OBSHELPER['XA_OBS_YROFEQNX'] = 2 # J2K equinox\n",
    "    R['asObId']                 = load_utils.ObsDll.ObsAddFrArray( OBSHELPER.getData() )\n",
    "    return R['asObId']\n",
    "\n",
    "# add the obs to the astrostandards\n",
    "load_utils.ObsDll.ObsRemoveAll()\n",
    "obs['asObId'] = obs.apply( addOb, axis=1 )"
   ]
  },
  {
   "cell_type": "code",
   "execution_count": 52,
   "id": "daee0ade-d28a-4f49-b364-8791b7a9de36",
   "metadata": {},
   "outputs": [
    {
     "data": {
      "text/plain": [
       "0"
      ]
     },
     "execution_count": 52,
     "metadata": {},
     "output_type": "execute_result"
    }
   ],
   "source": [
    "# init the sensor (fake sat number must be same as above)\n",
    "load_utils.SensorDll.SensorSetLocAll( 777, 0, 0, (ctypes.c_double * 3)(0,0,0), load_utils.Cstr('TEST',24), 99999, 0 )"
   ]
  },
  {
   "cell_type": "code",
   "execution_count": 53,
   "id": "4c3f131f-a287-419c-9e1e-ec5da3862bf7",
   "metadata": {},
   "outputs": [],
   "source": [
    "this_tle = tle.iloc[0]\n",
    "load_utils.TleDll.TleRemoveAllSats()\n",
    "as_tle   = load_utils.TleDll.TleAddSatFrLines( \n",
    "    load_utils.Cstr( this_tle['line1'], 512 ),\n",
    "    load_utils.Cstr( this_tle['line2'], 512 ) )\n",
    "assert 0 == load_utils.SatStateDll.SatStateInitSat( as_tle )"
   ]
  },
  {
   "cell_type": "code",
   "execution_count": 54,
   "id": "df96fc81-1916-43d0-8bdd-15005994460e",
   "metadata": {},
   "outputs": [],
   "source": [
    "# data holders\n",
    "satelt = (ctypes.c_double * 9)()\n",
    "obelt  = (ctypes.c_double * 9)()\n",
    "b3s    = load_utils.Cstr('',512)\n",
    "# get a ROTAS holder\n",
    "OBSRESHELPER = helpers.astrostd_named_fields( load_utils.RotasDll, prefix='XA_OBSRES_' )\n",
    "\n",
    "# assume that TLE is loaded and the sensor is setup...\n",
    "def ROTASob( R ):\n",
    "    assert 0 == load_utils.RotasDll.RotasComputeObsResiduals( R['asObId'], as_tle, OBSRESHELPER.data, satelt, obelt )\n",
    "    return OBSRESHELPER.toDict()\n",
    "\n",
    "rv = obs.apply( ROTASob, axis=1 ).values\n",
    "rv = pd.DataFrame.from_records(rv)\n",
    "total = pd.concat( (obs, rv), axis=1 )"
   ]
  },
  {
   "cell_type": "markdown",
   "id": "5bf9f004-e309-4e7d-bec9-ef828261493a",
   "metadata": {},
   "source": [
    "# OpenROTAS test"
   ]
  },
  {
   "cell_type": "code",
   "execution_count": 55,
   "id": "6487c6a2-9dea-4a2f-9913-5c7a8efceeaf",
   "metadata": {},
   "outputs": [],
   "source": [
    "import os\n",
    "import sys\n",
    "sys.path.insert(0, os.path.abspath(os.path.join(os.path.abspath(''), '..')))\n",
    "from datetime import datetime,timedelta,timezone\n",
    "import pandas as pd\n",
    "\n",
    "from astrostandards.utils import load_utils as harness\n",
    "from OpenROTAS import time_helpers\n",
    "from OpenROTAS import sgp4_prop\n",
    "from OpenROTAS import sensor_helper\n",
    "from OpenROTAS import compute_looks"
   ]
  },
  {
   "cell_type": "code",
   "execution_count": 56,
   "id": "e1de0713-4ce4-4e40-a8d5-d6b29031db13",
   "metadata": {},
   "outputs": [
    {
     "data": {
      "text/plain": [
       "1      27514.183370\n",
       "2      27514.183357\n",
       "3      27514.183335\n",
       "4      27514.183322\n",
       "5      27514.183310\n",
       "           ...     \n",
       "126    27514.181806\n",
       "127    27514.181796\n",
       "128    27514.181783\n",
       "129    27514.181771\n",
       "130    27514.181761\n",
       "Name: obTime, Length: 130, dtype: float64"
      ]
     },
     "execution_count": 56,
     "metadata": {},
     "output_type": "execute_result"
    }
   ],
   "source": [
    "obs['obTime'].apply( lambda X : helpers.datetime_to_ds50(X,load_utils.TimeFuncDll) )"
   ]
  },
  {
   "cell_type": "code",
   "execution_count": 59,
   "id": "89a5f0f5-4358-40ef-a463-54133826ec3e",
   "metadata": {},
   "outputs": [
    {
     "name": "stdout",
     "output_type": "stream",
     "text": [
      "2025-04-30 04:24:03.127392+00:00\n",
      "2025-04-30 04:24:02.053440+00:00\n",
      "2025-04-30 04:24:00.121536+00:00\n",
      "2025-04-30 04:23:59.047583+00:00\n",
      "2025-04-30 04:23:57.973632+00:00\n",
      "2025-04-30 04:23:57.114816+00:00\n",
      "2025-04-30 04:23:56.040000+00:00\n",
      "2025-04-30 04:23:54.967776+00:00\n",
      "2025-04-30 04:23:54.107232+00:00\n",
      "2025-04-30 04:23:53.034144+00:00\n",
      "2025-04-30 04:23:52.175328+00:00\n",
      "2025-04-30 04:23:51.101376+00:00\n",
      "2025-04-30 04:23:50.027424+00:00\n",
      "2025-04-30 04:23:49.168608+00:00\n",
      "2025-04-30 04:23:48.094656+00:00\n",
      "2025-04-30 04:23:47.020704+00:00\n",
      "2025-04-30 04:23:46.161024+00:00\n",
      "2025-04-30 04:23:45.087072+00:00\n",
      "2025-04-30 04:23:44.014848+00:00\n",
      "2025-04-30 04:23:43.155168+00:00\n",
      "2025-04-30 04:23:42.081215+00:00\n",
      "2025-04-30 04:23:41.007264+00:00\n",
      "2025-04-30 04:23:40.148448+00:00\n",
      "2025-04-30 04:23:39.074496+00:00\n",
      "2025-04-30 04:23:38.000544+00:00\n",
      "2025-04-30 04:23:37.141728+00:00\n",
      "2025-04-30 04:23:36.067776+00:00\n",
      "2025-04-30 04:23:34.994688+00:00\n",
      "2025-04-30 04:23:34.135008+00:00\n",
      "2025-04-30 04:23:33.061056+00:00\n",
      "2025-04-30 04:23:31.987104+00:00\n",
      "2025-04-30 04:23:31.128288+00:00\n",
      "2025-04-30 04:23:30.054336+00:00\n",
      "2025-04-30 04:23:28.980384+00:00\n",
      "2025-04-30 04:23:28.121567+00:00\n",
      "2025-04-30 04:23:27.047616+00:00\n",
      "2025-04-30 04:23:25.974528+00:00\n",
      "2025-04-30 04:23:25.115712+00:00\n",
      "2025-04-30 04:23:24.041760+00:00\n",
      "2025-04-30 04:23:22.967808+00:00\n",
      "2025-04-30 04:23:22.108128+00:00\n",
      "2025-04-30 04:23:21.034176+00:00\n",
      "2025-04-30 04:23:20.175360+00:00\n",
      "2025-04-30 04:23:19.101408+00:00\n",
      "2025-04-30 04:23:18.027456+00:00\n",
      "2025-04-30 04:23:16.095552+00:00\n",
      "2025-04-30 04:23:15.021600+00:00\n",
      "2025-04-30 04:23:14.162784+00:00\n",
      "2025-04-30 04:23:13.088832+00:00\n",
      "2025-04-30 04:23:12.014016+00:00\n",
      "2025-04-30 04:23:11.155200+00:00\n",
      "2025-04-30 04:23:10.081248+00:00\n",
      "2025-04-30 04:23:09.007296+00:00\n",
      "2025-04-30 04:23:08.148480+00:00\n",
      "2025-04-30 04:23:07.075392+00:00\n",
      "2025-04-30 04:23:06.001440+00:00\n",
      "2025-04-30 04:23:05.142624+00:00\n",
      "2025-04-30 04:23:04.068672+00:00\n",
      "2025-04-30 04:23:02.994720+00:00\n",
      "2025-04-30 04:23:02.135040+00:00\n",
      "2025-04-30 04:23:01.061088+00:00\n",
      "2025-04-30 04:22:59.987136+00:00\n",
      "2025-04-30 04:22:59.113631+00:00\n",
      "2025-04-30 04:22:58.033631+00:00\n",
      "2025-04-30 04:22:56.959680+00:00\n",
      "2025-04-30 04:22:56.100864+00:00\n",
      "2025-04-30 04:22:55.026048+00:00\n",
      "2025-04-30 04:22:54.167232+00:00\n",
      "2025-04-30 04:22:53.093280+00:00\n",
      "2025-04-30 04:22:52.019328+00:00\n",
      "2025-04-30 04:22:51.160512+00:00\n",
      "2025-04-30 04:22:50.086560+00:00\n",
      "2025-04-30 04:22:49.013472+00:00\n",
      "2025-04-30 04:22:48.154656+00:00\n",
      "2025-04-30 04:22:47.080704+00:00\n",
      "2025-04-30 04:22:46.006752+00:00\n",
      "2025-04-30 04:22:44.073120+00:00\n",
      "2025-04-30 04:22:41.067263+00:00\n",
      "2025-04-30 04:22:39.993312+00:00\n",
      "2025-04-30 04:22:39.134496+00:00\n",
      "2025-04-30 04:22:38.060544+00:00\n",
      "2025-04-30 04:22:36.986592+00:00\n",
      "2025-04-30 04:22:36.127776+00:00\n",
      "2025-04-30 04:22:35.053824+00:00\n",
      "2025-04-30 04:22:33.979008+00:00\n",
      "2025-04-30 04:22:32.047104+00:00\n",
      "2025-04-30 04:22:29.040384+00:00\n",
      "2025-04-30 04:22:27.966432+00:00\n",
      "2025-04-30 04:22:24.959712+00:00\n",
      "2025-04-30 04:22:24.100032+00:00\n",
      "2025-04-30 04:22:23.027808+00:00\n",
      "2025-04-30 04:22:22.168128+00:00\n",
      "2025-04-30 04:22:21.094176+00:00\n",
      "2025-04-30 04:22:20.020224+00:00\n",
      "2025-04-30 04:22:19.161408+00:00\n",
      "2025-04-30 04:22:18.087456+00:00\n",
      "2025-04-30 04:22:17.013504+00:00\n",
      "2025-04-30 04:22:16.154687+00:00\n",
      "2025-04-30 04:22:15.080736+00:00\n",
      "2025-04-30 04:22:14.007648+00:00\n",
      "2025-04-30 04:22:13.147104+00:00\n",
      "2025-04-30 04:22:12.074016+00:00\n",
      "2025-04-30 04:22:11.000064+00:00\n",
      "2025-04-30 04:22:10.141248+00:00\n",
      "2025-04-30 04:22:09.067296+00:00\n",
      "2025-04-30 04:22:07.993344+00:00\n",
      "2025-04-30 04:22:07.134528+00:00\n",
      "2025-04-30 04:22:06.060576+00:00\n",
      "2025-04-30 04:22:04.987488+00:00\n",
      "2025-04-30 04:22:04.127808+00:00\n",
      "2025-04-30 04:22:03.054720+00:00\n",
      "2025-04-30 04:22:01.980768+00:00\n",
      "2025-04-30 04:22:01.121088+00:00\n",
      "2025-04-30 04:22:00.047136+00:00\n",
      "2025-04-30 04:21:58.973184+00:00\n",
      "2025-04-30 04:21:58.114368+00:00\n",
      "2025-04-30 04:21:57.040416+00:00\n",
      "2025-04-30 04:21:55.967327+00:00\n",
      "2025-04-30 04:21:55.107648+00:00\n",
      "2025-04-30 04:21:54.034560+00:00\n",
      "2025-04-30 04:21:52.960608+00:00\n",
      "2025-04-30 04:21:52.101792+00:00\n",
      "2025-04-30 04:21:51.027840+00:00\n",
      "2025-04-30 04:21:50.168160+00:00\n",
      "2025-04-30 04:21:49.094208+00:00\n",
      "2025-04-30 04:21:48.020256+00:00\n",
      "2025-04-30 04:21:47.161440+00:00\n",
      "2025-04-30 04:21:46.087488+00:00\n",
      "2025-04-30 04:21:45.014399+00:00\n",
      "2025-04-30 04:21:44.155584+00:00\n",
      "NaT\n"
     ]
    },
    {
     "ename": "ArgumentError",
     "evalue": "argument 1: TypeError: wrong type",
     "output_type": "error",
     "traceback": [
      "\u001b[1;31m---------------------------------------------------------------------------\u001b[0m",
      "\u001b[1;31mArgumentError\u001b[0m                             Traceback (most recent call last)",
      "Cell \u001b[1;32mIn[59], line 5\u001b[0m\n\u001b[0;32m      2\u001b[0m importlib\u001b[38;5;241m.\u001b[39mreload( time_helpers )\n\u001b[0;32m      4\u001b[0m X \u001b[38;5;241m=\u001b[39m total[\u001b[38;5;124m'\u001b[39m\u001b[38;5;124mobTime\u001b[39m\u001b[38;5;124m'\u001b[39m]\u001b[38;5;241m.\u001b[39miloc[\u001b[38;5;241m0\u001b[39m]\n\u001b[1;32m----> 5\u001b[0m \u001b[43mtime_helpers\u001b[49m\u001b[38;5;241;43m.\u001b[39;49m\u001b[43mconvert_times\u001b[49m\u001b[43m(\u001b[49m\u001b[43m \u001b[49m\u001b[43mtotal\u001b[49m\u001b[43m[\u001b[49m\u001b[38;5;124;43m'\u001b[39;49m\u001b[38;5;124;43mobTime\u001b[39;49m\u001b[38;5;124;43m'\u001b[39;49m\u001b[43m]\u001b[49m\u001b[43m,\u001b[49m\u001b[43m \u001b[49m\u001b[43mharness\u001b[49m\u001b[43m \u001b[49m\u001b[43m)\u001b[49m\n\u001b[0;32m      6\u001b[0m \u001b[38;5;66;03m# total['obTime'].values\u001b[39;00m\n",
      "File \u001b[1;32m~\\CODE\\OpenROTAS\\OpenROTAS\\time_helpers.py:35\u001b[0m, in \u001b[0;36mconvert_times\u001b[1;34m(datetimes, INTERFACE)\u001b[0m\n\u001b[0;32m     33\u001b[0m \u001b[38;5;28;01mfor\u001b[39;00m x \u001b[38;5;129;01min\u001b[39;00m datetimes: \u001b[38;5;28mprint\u001b[39m(x)\n\u001b[0;32m     34\u001b[0m \u001b[38;5;66;03m# convert the datetimes to astrostandard epochs\u001b[39;00m\n\u001b[1;32m---> 35\u001b[0m ds50_utc \u001b[38;5;241m=\u001b[39m \u001b[43m[\u001b[49m\u001b[43m \u001b[49m\u001b[43mhelpers\u001b[49m\u001b[38;5;241;43m.\u001b[39;49m\u001b[43mdatetime_to_ds50\u001b[49m\u001b[43m(\u001b[49m\u001b[43m \u001b[49m\u001b[43mX\u001b[49m\u001b[43m,\u001b[49m\u001b[43m \u001b[49m\u001b[43mINTERFACE\u001b[49m\u001b[38;5;241;43m.\u001b[39;49m\u001b[43mTimeFuncDll\u001b[49m\u001b[43m \u001b[49m\u001b[43m)\u001b[49m\u001b[43m \u001b[49m\u001b[38;5;28;43;01mfor\u001b[39;49;00m\u001b[43m \u001b[49m\u001b[43mX\u001b[49m\u001b[43m \u001b[49m\u001b[38;5;129;43;01min\u001b[39;49;00m\u001b[43m \u001b[49m\u001b[43mdatetimes\u001b[49m\u001b[43m \u001b[49m\u001b[43m]\u001b[49m\n\u001b[0;32m     37\u001b[0m \u001b[38;5;28;01mreturn\u001b[39;00m pd\u001b[38;5;241m.\u001b[39mDataFrame( \n\u001b[0;32m     38\u001b[0m        [ { \u001b[38;5;124m'\u001b[39m\u001b[38;5;124mdatetime\u001b[39m\u001b[38;5;124m'\u001b[39m : X,\n\u001b[0;32m     39\u001b[0m            \u001b[38;5;124m'\u001b[39m\u001b[38;5;124mtheta\u001b[39m\u001b[38;5;124m'\u001b[39m    : INTERFACE\u001b[38;5;241m.\u001b[39mTimeFuncDll\u001b[38;5;241m.\u001b[39mThetaGrnwchFK5( Y ),\n\u001b[0;32m     40\u001b[0m            \u001b[38;5;124m'\u001b[39m\u001b[38;5;124mds50_utc\u001b[39m\u001b[38;5;124m'\u001b[39m : Y,\n\u001b[0;32m     41\u001b[0m            \u001b[38;5;124m'\u001b[39m\u001b[38;5;124mds50_et\u001b[39m\u001b[38;5;124m'\u001b[39m  : INTERFACE\u001b[38;5;241m.\u001b[39mTimeFuncDll\u001b[38;5;241m.\u001b[39mUTCToET( Y ),\n\u001b[0;32m     42\u001b[0m            \u001b[38;5;124m'\u001b[39m\u001b[38;5;124mds50_ut1\u001b[39m\u001b[38;5;124m'\u001b[39m : INTERFACE\u001b[38;5;241m.\u001b[39mTimeFuncDll\u001b[38;5;241m.\u001b[39mUTCToUT1( Y ) } \u001b[38;5;28;01mfor\u001b[39;00m X,Y \u001b[38;5;129;01min\u001b[39;00m \u001b[38;5;28mzip\u001b[39m(datetimes,ds50_utc) ])\n",
      "File \u001b[1;32m~\\CODE\\OpenROTAS\\OpenROTAS\\time_helpers.py:35\u001b[0m, in \u001b[0;36m<listcomp>\u001b[1;34m(.0)\u001b[0m\n\u001b[0;32m     33\u001b[0m \u001b[38;5;28;01mfor\u001b[39;00m x \u001b[38;5;129;01min\u001b[39;00m datetimes: \u001b[38;5;28mprint\u001b[39m(x)\n\u001b[0;32m     34\u001b[0m \u001b[38;5;66;03m# convert the datetimes to astrostandard epochs\u001b[39;00m\n\u001b[1;32m---> 35\u001b[0m ds50_utc \u001b[38;5;241m=\u001b[39m [ \u001b[43mhelpers\u001b[49m\u001b[38;5;241;43m.\u001b[39;49m\u001b[43mdatetime_to_ds50\u001b[49m\u001b[43m(\u001b[49m\u001b[43m \u001b[49m\u001b[43mX\u001b[49m\u001b[43m,\u001b[49m\u001b[43m \u001b[49m\u001b[43mINTERFACE\u001b[49m\u001b[38;5;241;43m.\u001b[39;49m\u001b[43mTimeFuncDll\u001b[49m\u001b[43m \u001b[49m\u001b[43m)\u001b[49m \u001b[38;5;28;01mfor\u001b[39;00m X \u001b[38;5;129;01min\u001b[39;00m datetimes ]\n\u001b[0;32m     37\u001b[0m \u001b[38;5;28;01mreturn\u001b[39;00m pd\u001b[38;5;241m.\u001b[39mDataFrame( \n\u001b[0;32m     38\u001b[0m        [ { \u001b[38;5;124m'\u001b[39m\u001b[38;5;124mdatetime\u001b[39m\u001b[38;5;124m'\u001b[39m : X,\n\u001b[0;32m     39\u001b[0m            \u001b[38;5;124m'\u001b[39m\u001b[38;5;124mtheta\u001b[39m\u001b[38;5;124m'\u001b[39m    : INTERFACE\u001b[38;5;241m.\u001b[39mTimeFuncDll\u001b[38;5;241m.\u001b[39mThetaGrnwchFK5( Y ),\n\u001b[0;32m     40\u001b[0m            \u001b[38;5;124m'\u001b[39m\u001b[38;5;124mds50_utc\u001b[39m\u001b[38;5;124m'\u001b[39m : Y,\n\u001b[0;32m     41\u001b[0m            \u001b[38;5;124m'\u001b[39m\u001b[38;5;124mds50_et\u001b[39m\u001b[38;5;124m'\u001b[39m  : INTERFACE\u001b[38;5;241m.\u001b[39mTimeFuncDll\u001b[38;5;241m.\u001b[39mUTCToET( Y ),\n\u001b[0;32m     42\u001b[0m            \u001b[38;5;124m'\u001b[39m\u001b[38;5;124mds50_ut1\u001b[39m\u001b[38;5;124m'\u001b[39m : INTERFACE\u001b[38;5;241m.\u001b[39mTimeFuncDll\u001b[38;5;241m.\u001b[39mUTCToUT1( Y ) } \u001b[38;5;28;01mfor\u001b[39;00m X,Y \u001b[38;5;129;01min\u001b[39;00m \u001b[38;5;28mzip\u001b[39m(datetimes,ds50_utc) ])\n",
      "File \u001b[1;32m~\\CODE\\OpenROTAS\\astrostandards\\utils\\helpers.py:53\u001b[0m, in \u001b[0;36mdatetime_to_ds50\u001b[1;34m(dt, TimeFuncDll)\u001b[0m\n\u001b[0;32m     52\u001b[0m \u001b[38;5;28;01mdef\u001b[39;00m \u001b[38;5;21mdatetime_to_ds50\u001b[39m( dt , TimeFuncDll ):\n\u001b[1;32m---> 53\u001b[0m     \u001b[38;5;28;01mreturn\u001b[39;00m \u001b[43mTimeFuncDll\u001b[49m\u001b[38;5;241;43m.\u001b[39;49m\u001b[43mTimeComps2ToUTC\u001b[49m\u001b[43m(\u001b[49m\u001b[43m \u001b[49m\u001b[43mdt\u001b[49m\u001b[38;5;241;43m.\u001b[39;49m\u001b[43myear\u001b[49m\u001b[43m,\u001b[49m\u001b[43m \u001b[49m\u001b[43mdt\u001b[49m\u001b[38;5;241;43m.\u001b[39;49m\u001b[43mmonth\u001b[49m\u001b[43m,\u001b[49m\u001b[43m \u001b[49m\u001b[43mdt\u001b[49m\u001b[38;5;241;43m.\u001b[39;49m\u001b[43mday\u001b[49m\u001b[43m,\u001b[49m\u001b[43m \u001b[49m\u001b[43mdt\u001b[49m\u001b[38;5;241;43m.\u001b[39;49m\u001b[43mhour\u001b[49m\u001b[43m,\u001b[49m\u001b[43m \u001b[49m\u001b[43mdt\u001b[49m\u001b[38;5;241;43m.\u001b[39;49m\u001b[43mminute\u001b[49m\u001b[43m,\u001b[49m\u001b[43m \u001b[49m\n\u001b[0;32m     54\u001b[0m \u001b[43m            \u001b[49m\u001b[43mctypes\u001b[49m\u001b[38;5;241;43m.\u001b[39;49m\u001b[43mc_double\u001b[49m\u001b[43m(\u001b[49m\u001b[43m \u001b[49m\u001b[43mdt\u001b[49m\u001b[38;5;241;43m.\u001b[39;49m\u001b[43msecond\u001b[49m\u001b[43m \u001b[49m\u001b[38;5;241;43m+\u001b[39;49m\u001b[43m \u001b[49m\u001b[43mdt\u001b[49m\u001b[38;5;241;43m.\u001b[39;49m\u001b[43mmicrosecond\u001b[49m\u001b[38;5;241;43m/\u001b[39;49m\u001b[38;5;241;43m1e6\u001b[39;49m\u001b[43m)\u001b[49m\u001b[43m \u001b[49m\u001b[43m)\u001b[49m\n",
      "\u001b[1;31mArgumentError\u001b[0m: argument 1: TypeError: wrong type"
     ]
    }
   ],
   "source": [
    "import importlib\n",
    "importlib.reload( time_helpers )\n",
    "\n",
    "X = total['obTime'].iloc[0]\n",
    "time_helpers.convert_times( total['obTime'], harness )\n",
    "# total['obTime'].values"
   ]
  },
  {
   "cell_type": "code",
   "execution_count": null,
   "id": "a3e7f014-42f9-4cfc-af62-6637213a7d47",
   "metadata": {},
   "outputs": [],
   "source": []
  }
 ],
 "metadata": {
  "kernelspec": {
   "display_name": "Python 3 (ipykernel)",
   "language": "python",
   "name": "python3"
  },
  "language_info": {
   "codemirror_mode": {
    "name": "ipython",
    "version": 3
   },
   "file_extension": ".py",
   "mimetype": "text/x-python",
   "name": "python",
   "nbconvert_exporter": "python",
   "pygments_lexer": "ipython3",
   "version": "3.11.1"
  }
 },
 "nbformat": 4,
 "nbformat_minor": 5
}
