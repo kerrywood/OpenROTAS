{
 "cells": [
  {
   "cell_type": "markdown",
   "id": "6fe1f525-fcbf-4352-92ec-4b9fd036a489",
   "metadata": {},
   "source": [
    "# ROTAS test \n",
    "\n",
    "Kerry Wood (kerry.wood@asterism.ai)"
   ]
  },
  {
   "cell_type": "code",
   "execution_count": 1,
   "id": "deb36631-b078-47c3-a64d-44dc5678a676",
   "metadata": {},
   "outputs": [],
   "source": [
    "import pandas as pd\n",
    "import ctypes\n",
    "import load_utils\n",
    "import helpers"
   ]
  },
  {
   "cell_type": "code",
   "execution_count": 2,
   "id": "f5c70f04-f1ce-4647-9720-b555b3b4ebeb",
   "metadata": {},
   "outputs": [
    {
     "name": "stdout",
     "output_type": "stream",
     "text": [
      "EnvConstDll: 0\n",
      "TimeFuncDll: 0\n",
      "AstroFuncDll: 0\n",
      "TleDll: 0\n",
      "SpVecDll: 0\n",
      "VcmDll: 0\n",
      "ExtEphemDll: 0\n",
      "Sgp4PropDll: 0\n",
      "SpPropDll: 0\n",
      "ElOpsDll: 0\n",
      "SatStateDll: 0\n",
      "SensorDll: 0\n",
      "ObsDll: 0\n",
      "ObsOpsDll: 0\n",
      "LamodDll: 0\n",
      "RotasDll: 0\n",
      "BatchDCDll: 0\n",
      "b''\n"
     ]
    },
    {
     "data": {
      "text/plain": [
       "0"
      ]
     },
     "execution_count": 2,
     "metadata": {},
     "output_type": "execute_result"
    }
   ],
   "source": [
    "# this will only work if you have the full astrostandards\n",
    "load_utils.init_all()"
   ]
  },
  {
   "cell_type": "code",
   "execution_count": 3,
   "id": "bd3ebfee-0598-4f17-9f7a-5ac5a6006bf2",
   "metadata": {},
   "outputs": [],
   "source": [
    "obs = pd.read_json('./48340_obs.json')\n",
    "tle = pd.read_json('./48340_tle.json')\n",
    "# load the obs\n",
    "obs = obs[ ~obs['idSensor'].isnull() ].copy()\n",
    "obs = obs[ ~obs['id'].isnull() ].copy()\n",
    "# this is a data holder / formatter\n",
    "OBSHELPER = helpers.astrostd_named_fields( load_utils.ObsDll, prefix='XA_OBS_' )\n",
    "\n",
    "EFG = (ctypes.c_double * 3)()\n",
    "def toEFG( R ):\n",
    "    LLH = load_utils.AstroFuncDll.LLHToEFGPos( \n",
    "                                              (ctypes.c_double * 3)( R['senlat'],R['senlon'],R['senalt']),\n",
    "                                              EFG\n",
    "                                              )\n",
    "    return list(EFG)\n",
    "\n",
    "obs['efg'] = obs.apply( toEFG, axis=1 ) \n",
    "obs['obTime'] = pd.to_datetime( obs['obTime'] )\n",
    "obs['ds50_utc'] = obs['obTime'].apply( lambda X : helpers.datetime_to_ds50(X,load_utils.TimeFuncDll) )"
   ]
  },
  {
   "cell_type": "code",
   "execution_count": 4,
   "id": "23e85be3-88e1-4f1e-8d55-b8871cbdf9a1",
   "metadata": {},
   "outputs": [],
   "source": [
    "def addOb( R, fakeSatNo=777 ):\n",
    "    satno = R['satNo']\n",
    "    senx, seny, senz = R['efg']\n",
    "    # data holders\n",
    "    OBSHELPER.clear()\n",
    "    OBSHELPER['XA_OBS_SECCLASS'] = 1\n",
    "    OBSHELPER['XA_OBS_SATNUM']   = satno\n",
    "    OBSHELPER['XA_OBS_SITETAG']  = satno\n",
    "    OBSHELPER['XA_OBS_SPADOCTAG']  = satno\n",
    "    OBSHELPER['XA_OBS_SENNUM']   = fakeSatNo\n",
    "    OBSHELPER['XA_OBS_DS50UTC']  = R['ds50_utc']\n",
    "    OBSHELPER['XA_OBS_ELORDEC']  = R['declination']\n",
    "    OBSHELPER['XA_OBS_AZORRA']   = R['ra']\n",
    "    OBSHELPER['XA_OBS_POSX']     = senx\n",
    "    OBSHELPER['XA_OBS_POSY']     = seny\n",
    "    OBSHELPER['XA_OBS_POSZ']     = senz\n",
    "    OBSHELPER['XA_OBS_OBSTYPE']  = 9\n",
    "    OBSHELPER['XA_OBS_TRACKIND'] = 3 # start of track\n",
    "    OBSHELPER['XA_OBS_YROFEQNX'] = 2 # J2K equinox\n",
    "    R['asObId']                 = load_utils.ObsDll.ObsAddFrArray( OBSHELPER.getData() )\n",
    "    return R['asObId']\n",
    "\n",
    "# add the obs to the astrostandards\n",
    "load_utils.ObsDll.ObsRemoveAll()\n",
    "obs['asObId'] = obs.apply( addOb, axis=1 )"
   ]
  },
  {
   "cell_type": "code",
   "execution_count": 5,
   "id": "daee0ade-d28a-4f49-b364-8791b7a9de36",
   "metadata": {},
   "outputs": [
    {
     "data": {
      "text/plain": [
       "0"
      ]
     },
     "execution_count": 5,
     "metadata": {},
     "output_type": "execute_result"
    }
   ],
   "source": [
    "# init the sensor (fake sat number must be same as above)\n",
    "load_utils.SensorDll.SensorSetLocAll( 777, 0, 0, (ctypes.c_double * 3)(0,0,0), load_utils.Cstr('TEST',24), 99999, 0 )"
   ]
  },
  {
   "cell_type": "code",
   "execution_count": 6,
   "id": "4c3f131f-a287-419c-9e1e-ec5da3862bf7",
   "metadata": {},
   "outputs": [],
   "source": [
    "this_tle = tle.iloc[0]\n",
    "load_utils.TleDll.TleRemoveAllSats()\n",
    "as_tle   = load_utils.TleDll.TleAddSatFrLines( \n",
    "    load_utils.Cstr( this_tle['line1'], 512 ),\n",
    "    load_utils.Cstr( this_tle['line2'], 512 ) )\n",
    "assert 0 == load_utils.SatStateDll.SatStateInitSat( as_tle )"
   ]
  },
  {
   "cell_type": "code",
   "execution_count": 7,
   "id": "df96fc81-1916-43d0-8bdd-15005994460e",
   "metadata": {},
   "outputs": [],
   "source": [
    "# data holders\n",
    "satelt = (ctypes.c_double * 9)()\n",
    "obelt  = (ctypes.c_double * 9)()\n",
    "b3s    = load_utils.Cstr('',512)\n",
    "# get a ROTAS holder\n",
    "OBSRESHELPER = helpers.astrostd_named_fields( load_utils.RotasDll, prefix='XA_OBSRES_' )\n",
    "\n",
    "# assume that TLE is loaded and the sensor is setup...\n",
    "def ROTASob( R ):\n",
    "    assert 0 == load_utils.RotasDll.RotasComputeObsResiduals( R['asObId'], as_tle, OBSRESHELPER.data, satelt, obelt )\n",
    "    return OBSRESHELPER.toDict()\n",
    "\n",
    "rv = obs.apply( ROTASob, axis=1 ).values\n",
    "rv = pd.DataFrame.from_records(rv)\n",
    "total = pd.concat( (obs, rv), axis=1 )"
   ]
  },
  {
   "cell_type": "markdown",
   "id": "5bf9f004-e309-4e7d-bec9-ef828261493a",
   "metadata": {},
   "source": [
    "# OpenROTAS test"
   ]
  },
  {
   "cell_type": "code",
   "execution_count": null,
   "id": "6487c6a2-9dea-4a2f-9913-5c7a8efceeaf",
   "metadata": {},
   "outputs": [],
   "source": [
    "import os\n",
    "import sys\n",
    "sys.path.insert(0, os.path.abspath(os.path.join(os.path.abspath(''), '..')))\n",
    "from datetime import datetime,timedelta,timezone\n",
    "import pandas as pd\n",
    "\n",
    "from astrostandards.utils import load_utils as harness\n",
    "from OpenROTAS import time_helpers\n",
    "from OpenROTAS import sgp4_prop\n",
    "from OpenROTAS import sensor_helper\n",
    "from OpenROTAS import compute_looks"
   ]
  },
  {
   "cell_type": "code",
   "execution_count": null,
   "id": "e1de0713-4ce4-4e40-a8d5-d6b29031db13",
   "metadata": {},
   "outputs": [],
   "source": [
    "obs['obTime'].apply( lambda X : helpers.datetime_to_ds50(X,load_utils.TimeFuncDll) )"
   ]
  },
  {
   "cell_type": "code",
   "execution_count": null,
   "id": "89a5f0f5-4358-40ef-a463-54133826ec3e",
   "metadata": {},
   "outputs": [],
   "source": [
    "import importlib\n",
    "importlib.reload( time_helpers )\n",
    "\n",
    "X = total['obTime'].iloc[0]\n",
    "time_helpers.convert_times( total['obTime'], harness )\n",
    "# total['obTime'].values"
   ]
  },
  {
   "cell_type": "code",
   "execution_count": null,
   "id": "a3e7f014-42f9-4cfc-af62-6637213a7d47",
   "metadata": {},
   "outputs": [],
   "source": []
  }
 ],
 "metadata": {
  "kernelspec": {
   "display_name": "Python 3 (ipykernel)",
   "language": "python",
   "name": "python3"
  },
  "language_info": {
   "codemirror_mode": {
    "name": "ipython",
    "version": 3
   },
   "file_extension": ".py",
   "mimetype": "text/x-python",
   "name": "python",
   "nbconvert_exporter": "python",
   "pygments_lexer": "ipython3",
   "version": "3.11.1"
  }
 },
 "nbformat": 4,
 "nbformat_minor": 5
}
